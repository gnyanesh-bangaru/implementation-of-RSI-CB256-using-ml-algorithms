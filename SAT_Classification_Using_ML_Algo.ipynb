{
  "nbformat": 4,
  "nbformat_minor": 0,
  "metadata": {
    "colab": {
      "name": "SAT_Classification_Using_ML_Algo.ipynb",
      "provenance": [],
      "collapsed_sections": [
        "WbdjFwgF8yzQ",
        "xGjFUTPW-StK"
      ],
      "include_colab_link": true
    },
    "kernelspec": {
      "name": "python3",
      "display_name": "Python 3"
    },
    "language_info": {
      "name": "python"
    }
  },
  "cells": [
    {
      "cell_type": "markdown",
      "metadata": {
        "id": "view-in-github",
        "colab_type": "text"
      },
      "source": [
        "<a href=\"https://colab.research.google.com/github/myspace-img/implementation-of-RSI-CB256-using-ml-algorithms/blob/main/SAT_Classification_Using_ML_Algo.ipynb\" target=\"_parent\"><img src=\"https://colab.research.google.com/assets/colab-badge.svg\" alt=\"Open In Colab\"/></a>"
      ]
    },
    {
      "cell_type": "markdown",
      "source": [
        "# ***Satellite image classification using Machine learning algorithms***\n",
        "\n",
        "We have applied SVM classification algorithm, KNN classification algorithm and Decision tree algorithm for specific parameters on the given dataset.\n",
        "\n",
        "- ***DATASET*** - Satellite image Classification Dataset-RSI-CB256 , This dataset has 4 different classes mixed from Sensors and google map snapshot\n",
        "- The given satellite imagery based dataset consists of 4 classes i.e. \"cloudy, desert, green_area and water\" with sizes of 1500, 1131, 1500 and 1500 respectively.\n",
        "- In order to classify these images using machine learning algorithms, we need certain set of features for the provided data. Hence, we have applied first order statistical feature extraction by condidering **mean** and **standard deviation** as main features for the provided data.\n",
        "- The obtained accuracies have been considerable and will be observed once the cell is executed.\n",
        "\n",
        "\n",
        "\n",
        "\n",
        "\n",
        "***NOTE*** - The drive link for the data is provided below, along with kaggle data link:\n",
        "- Google Drive Link - https://drive.google.com/drive/folders/1UOGMtSbmvVZM8SJNiUpqh3IJR4pCZyO1?usp=sharing\n",
        "- KAGGLE Link - https://www.kaggle.com/datasets/mahmoudreda55/satellite-image-classification\n"
      ],
      "metadata": {
        "id": "HE743v5w_HCk"
      }
    },
    {
      "cell_type": "code",
      "source": [
        "from google.colab import drive\n",
        "drive.mount('/content/drive')"
      ],
      "metadata": {
        "id": "y-tQ27e0AZaN",
        "colab": {
          "base_uri": "https://localhost:8080/"
        },
        "outputId": "b2e3ce3a-a15a-4c79-e7d2-1efc98762faa"
      },
      "execution_count": 1,
      "outputs": [
        {
          "output_type": "stream",
          "name": "stdout",
          "text": [
            "Drive already mounted at /content/drive; to attempt to forcibly remount, call drive.mount(\"/content/drive\", force_remount=True).\n"
          ]
        }
      ]
    },
    {
      "cell_type": "code",
      "source": [
        "#Import Libraries\n",
        "import os\n",
        "from os import listdir\n",
        "from skimage import io\n",
        "import numpy as np\n",
        "import pandas as pd\n",
        "from sklearn.svm import SVC, LinearSVC\n",
        "from sklearn.neighbors import KNeighborsClassifier\n",
        "from sklearn.tree import DecisionTreeClassifier\n",
        "from sklearn.metrics import accuracy_score, classification_report\n",
        "from sklearn.model_selection import train_test_split\n",
        "from sklearn.preprocessing import StandardScaler, Normalizer\n",
        "import matplotlib.pyplot as plt\n",
        "import cv2 as cv"
      ],
      "metadata": {
        "id": "x09Y9bM063vp"
      },
      "execution_count": 2,
      "outputs": []
    },
    {
      "cell_type": "code",
      "source": [
        "#Statistical feature extraction\n",
        "def stats(folder_dir):\n",
        "    mean = []\n",
        "    std = []\n",
        "    y = []\n",
        "    for folder in folder_dir:\n",
        "      for images in os.listdir(folder):\n",
        "        if images.endswith('.jpeg') or images.endswith('.jpg'):\n",
        "            image = io.imread(folder+images)\n",
        "            mean_temp = np.mean(image)\n",
        "            std_temp = np.std(image)\n",
        "            mean.append(mean_temp)\n",
        "            std.append(std_temp)\n",
        "            if folder[-2] == 'y':\n",
        "                y.append(0)\n",
        "            elif folder[-2] == 't':\n",
        "                y.append(1)\n",
        "            elif folder[-2] == 'a':\n",
        "                y.append(2)\n",
        "            else:\n",
        "                y.append(3)\n",
        "    return mean, std, y\n"
      ],
      "metadata": {
        "id": "lAwiRo_663n7"
      },
      "execution_count": 3,
      "outputs": []
    },
    {
      "cell_type": "code",
      "source": [
        "folder_dir = [\"/content/drive/MyDrive/satellite images/cloudy/\", \"/content/drive/MyDrive/satellite images/desert/\", '/content/drive/MyDrive/satellite images/green_area/', '/content/drive/MyDrive/satellite images/water/']\n",
        "for i in folder_dir:\n",
        "  print(i)\n",
        "mean, std, y = stats(folder_dir)\n",
        "#1 Merge mean and std obtained from the previous function\n",
        "data = pd.DataFrame()\n",
        "data['mean'] = mean\n",
        "data['std'] = std"
      ],
      "metadata": {
        "id": "DA1ov0z_pq7l",
        "colab": {
          "base_uri": "https://localhost:8080/"
        },
        "outputId": "0201f7ad-6a4a-4e7d-a410-e30fb2d92f38"
      },
      "execution_count": 4,
      "outputs": [
        {
          "output_type": "stream",
          "name": "stdout",
          "text": [
            "/content/drive/MyDrive/satellite images/cloudy/\n",
            "/content/drive/MyDrive/satellite images/desert/\n",
            "/content/drive/MyDrive/satellite images/green_area/\n",
            "/content/drive/MyDrive/satellite images/water/\n"
          ]
        }
      ]
    },
    {
      "cell_type": "markdown",
      "source": [
        "# For Test Split 80-20 %"
      ],
      "metadata": {
        "id": "8kAclLjlL42m"
      }
    },
    {
      "cell_type": "code",
      "source": [
        "# Split data into train and test data\n",
        "X_train, X_test, y_train, y_test = train_test_split(data, y, test_size=0.2, random_state=10)"
      ],
      "metadata": {
        "id": "wwh6UpIQpq5X"
      },
      "execution_count": 5,
      "outputs": []
    },
    {
      "cell_type": "markdown",
      "source": [
        "##SVM Classification\n",
        "\n",
        "\n",
        "\n"
      ],
      "metadata": {
        "id": "yi9WAEuT7JZ7"
      }
    },
    {
      "cell_type": "markdown",
      "source": [
        "###Kernel = **RBF**"
      ],
      "metadata": {
        "id": "Hrm9X8EL7PGb"
      }
    },
    {
      "cell_type": "code",
      "source": [
        "#SVM Classifier, returns the accuracy\n",
        "def svm_pred_rbf(X_train, y_train, X_test, y_test):\n",
        "    np.random.seed(2)\n",
        "    svm_model = SVC(kernel='rbf')\n",
        "    svm_model.fit(X_train, y_train)\n",
        "    svm_pred = svm_model.predict(X_test)\n",
        "    svm_acc=accuracy_score(y_test, svm_pred)\n",
        "    print(classification_report(y_test,svm_pred))\n",
        "    return svm_acc * 100"
      ],
      "metadata": {
        "id": "ULo26c_spq2T"
      },
      "execution_count": 6,
      "outputs": []
    },
    {
      "cell_type": "code",
      "source": [
        "print(\"ACCURACY:\",svm_pred_rbf(X_train, y_train, X_test, y_test), \"%\")\n"
      ],
      "metadata": {
        "id": "Fm5NWsGVpqz0",
        "colab": {
          "base_uri": "https://localhost:8080/"
        },
        "outputId": "9a52be41-6cf3-41ec-eeda-691788046aad"
      },
      "execution_count": 7,
      "outputs": [
        {
          "output_type": "stream",
          "name": "stdout",
          "text": [
            "              precision    recall  f1-score   support\n",
            "\n",
            "           0       0.97      0.74      0.84       314\n",
            "           1       0.77      0.98      0.86       224\n",
            "           2       0.77      0.95      0.85       300\n",
            "           3       0.86      0.71      0.78       289\n",
            "\n",
            "    accuracy                           0.83      1127\n",
            "   macro avg       0.84      0.84      0.83      1127\n",
            "weighted avg       0.85      0.83      0.83      1127\n",
            "\n",
            "ACCURACY: 83.40727595385981 %\n"
          ]
        }
      ]
    },
    {
      "cell_type": "markdown",
      "source": [
        "###Kernel = **Linear**"
      ],
      "metadata": {
        "id": "XiKHrBEY7XpZ"
      }
    },
    {
      "cell_type": "code",
      "source": [
        "def svm_pred_linear(X_train, y_train, X_test, y_test):\n",
        "    np.random.seed(3)\n",
        "    svm_model = SVC(kernel='linear')\n",
        "    svm_model.fit(X_train, y_train)\n",
        "    svm_pred = svm_model.predict(X_test)\n",
        "    svm_acc=accuracy_score(y_test, svm_pred)\n",
        "    print(classification_report(y_test,svm_pred))\n",
        "    return svm_acc * 100"
      ],
      "metadata": {
        "id": "vf3Nks6_6q72"
      },
      "execution_count": 8,
      "outputs": []
    },
    {
      "cell_type": "code",
      "source": [
        "print(\"ACCURACY:\",svm_pred_linear(X_train, y_train, X_test, y_test), \"%\")"
      ],
      "metadata": {
        "id": "BiiNkz9G64Mn",
        "colab": {
          "base_uri": "https://localhost:8080/"
        },
        "outputId": "f6fcc699-900b-4f13-aeed-0cc60f307f1c"
      },
      "execution_count": 9,
      "outputs": [
        {
          "output_type": "stream",
          "name": "stdout",
          "text": [
            "              precision    recall  f1-score   support\n",
            "\n",
            "           0       0.71      0.73      0.72       314\n",
            "           1       0.70      0.75      0.72       224\n",
            "           2       0.80      0.82      0.81       300\n",
            "           3       0.75      0.67      0.70       289\n",
            "\n",
            "    accuracy                           0.74      1127\n",
            "   macro avg       0.74      0.74      0.74      1127\n",
            "weighted avg       0.74      0.74      0.74      1127\n",
            "\n",
            "ACCURACY: 74.0905057675244 %\n"
          ]
        }
      ]
    },
    {
      "cell_type": "markdown",
      "source": [
        "###Kernel = **Poly**"
      ],
      "metadata": {
        "id": "j7PMI9_u7p72"
      }
    },
    {
      "cell_type": "code",
      "source": [
        "def svm_pred_poly(X_train, y_train, X_test, y_test):\n",
        "    np.random.seed(4)\n",
        "    svm_model = SVC(kernel='poly')\n",
        "    svm_model.fit(X_train, y_train)\n",
        "    svm_pred = svm_model.predict(X_test)\n",
        "    svm_acc=accuracy_score(y_test, svm_pred)\n",
        "    print(classification_report(y_test,svm_pred))\n",
        "    print(X_test.shape)\n",
        "    return svm_acc * 100"
      ],
      "metadata": {
        "id": "m8YVSYG06q0u"
      },
      "execution_count": 10,
      "outputs": []
    },
    {
      "cell_type": "code",
      "source": [
        "print(\"ACCURACY:\", svm_pred_poly(X_train, y_train, X_test, y_test), \"%\")"
      ],
      "metadata": {
        "id": "0XGW1Vmx64IF",
        "colab": {
          "base_uri": "https://localhost:8080/"
        },
        "outputId": "28a219df-b113-4656-9a18-47f70605431f"
      },
      "execution_count": 11,
      "outputs": [
        {
          "output_type": "stream",
          "name": "stdout",
          "text": [
            "              precision    recall  f1-score   support\n",
            "\n",
            "           0       0.83      0.68      0.74       314\n",
            "           1       0.69      0.82      0.75       224\n",
            "           2       0.62      0.94      0.75       300\n",
            "           3       0.77      0.39      0.52       289\n",
            "\n",
            "    accuracy                           0.70      1127\n",
            "   macro avg       0.73      0.71      0.69      1127\n",
            "weighted avg       0.73      0.70      0.69      1127\n",
            "\n",
            "(1127, 2)\n",
            "ACCURACY: 70.1863354037267 %\n"
          ]
        }
      ]
    },
    {
      "cell_type": "markdown",
      "source": [
        "##KNN Classification"
      ],
      "metadata": {
        "id": "WbdjFwgF8yzQ"
      }
    },
    {
      "cell_type": "code",
      "source": [
        "for i in range(3,9):\n",
        "  np.random.seed(5)\n",
        "  knn = KNeighborsClassifier(n_neighbors=i)\n",
        "  knn.fit(X_train, y_train)\n",
        "  y_pred = knn.predict(X_test)\n",
        "  print(\"Accuracy for {} neighbours:\".format(i),accuracy_score(y_test, y_pred) * 100, \"%\")"
      ],
      "metadata": {
        "id": "wBVhreMg8wEO",
        "colab": {
          "base_uri": "https://localhost:8080/"
        },
        "outputId": "598b3ca6-073b-464d-e0a1-927b552da418"
      },
      "execution_count": 12,
      "outputs": [
        {
          "output_type": "stream",
          "name": "stdout",
          "text": [
            "Accuracy for 3 neighbours: 89.44099378881988 %\n",
            "Accuracy for 4 neighbours: 88.55368234250221 %\n",
            "Accuracy for 5 neighbours: 89.26353149955635 %\n",
            "Accuracy for 6 neighbours: 88.99733806566104 %\n",
            "Accuracy for 7 neighbours: 88.99733806566104 %\n",
            "Accuracy for 8 neighbours: 89.26353149955635 %\n"
          ]
        }
      ]
    },
    {
      "cell_type": "markdown",
      "source": [
        "##Decision Tree Classification"
      ],
      "metadata": {
        "id": "xGjFUTPW-StK"
      }
    },
    {
      "cell_type": "code",
      "source": [
        "np.random.seed(6)\n",
        "tree = DecisionTreeClassifier()\n",
        "tree.fit(X_train, y_train)\n",
        "y_pred = tree.predict(X_test)\n",
        "print(\"Accuracy:\",accuracy_score(y_test, y_pred)*100, \"%\")"
      ],
      "metadata": {
        "id": "tCO9UzZg-SPI",
        "colab": {
          "base_uri": "https://localhost:8080/"
        },
        "outputId": "f36ac437-9772-4b6e-ba0b-fb4993aacaaa"
      },
      "execution_count": 13,
      "outputs": [
        {
          "output_type": "stream",
          "name": "stdout",
          "text": [
            "Accuracy: 86.06921029281278 %\n"
          ]
        }
      ]
    },
    {
      "cell_type": "markdown",
      "source": [
        "# Ensemble Learning for 80-20 Split"
      ],
      "metadata": {
        "id": "CGsHubfj4gvH"
      }
    },
    {
      "cell_type": "markdown",
      "source": [
        "##Ensemble - Gradient Boosting Classifier "
      ],
      "metadata": {
        "id": "46UZMKSM7Vy2"
      }
    },
    {
      "cell_type": "code",
      "source": [
        "from sklearn.ensemble import GradientBoostingClassifier\n",
        "clf = GradientBoostingClassifier(n_estimators=100, learning_rate=1.0, max_depth=1, random_state=0).fit(X_train, y_train)\n",
        "print(\"Score:\",clf.score(X_test, y_test)*100,\"%\")\n",
        "print(\"Accuracy:\",accuracy_score(y_test, y_pred)*100, \"%\")"
      ],
      "metadata": {
        "colab": {
          "base_uri": "https://localhost:8080/"
        },
        "id": "YPBU3DeM7TqG",
        "outputId": "58ccb476-f031-4ba5-b67e-11bd69d5f215"
      },
      "execution_count": 14,
      "outputs": [
        {
          "output_type": "stream",
          "name": "stdout",
          "text": [
            "Score: 85.18189884649512 %\n",
            "Accuracy: 86.06921029281278 %\n"
          ]
        }
      ]
    },
    {
      "cell_type": "markdown",
      "source": [
        "## Ensemble - Histogram based gradient boosting classifier"
      ],
      "metadata": {
        "id": "O5QTyvT2DWvo"
      }
    },
    {
      "cell_type": "code",
      "source": [
        "from sklearn.ensemble import HistGradientBoostingClassifier\n",
        "clf = HistGradientBoostingClassifier(max_iter=100).fit(X_train, y_train)\n",
        "print(\"Score:\",clf.score(X_test, y_test)*100,\"%\")\n",
        "print(\"Accuracy:\",accuracy_score(y_test, y_pred)*100, \"%\")"
      ],
      "metadata": {
        "colab": {
          "base_uri": "https://localhost:8080/"
        },
        "id": "WRXjDKNJDWlL",
        "outputId": "6a5e921c-e8bd-44df-9a09-1fabecb4a78f"
      },
      "execution_count": 15,
      "outputs": [
        {
          "output_type": "stream",
          "name": "stdout",
          "text": [
            "Score: 89.17480035492457 %\n",
            "Accuracy: 86.06921029281278 %\n"
          ]
        }
      ]
    },
    {
      "cell_type": "markdown",
      "source": [
        "##Ensemble - Random Forest"
      ],
      "metadata": {
        "id": "vWgt9os634hb"
      }
    },
    {
      "cell_type": "code",
      "source": [
        "from sklearn.ensemble import RandomForestClassifier\n",
        "clf = RandomForestClassifier(max_depth=2, random_state=0).fit(X_train, y_train)\n",
        "print(\"Score:\",clf.score(X_test, y_test)*100,\"%\")\n",
        "print(\"Accuracy:\",accuracy_score(y_test, y_pred)*100, \"%\")"
      ],
      "metadata": {
        "colab": {
          "base_uri": "https://localhost:8080/"
        },
        "id": "CKW9iw2E3-JG",
        "outputId": "1038fb81-8a31-4469-b0b5-e7a680aca341"
      },
      "execution_count": 16,
      "outputs": [
        {
          "output_type": "stream",
          "name": "stdout",
          "text": [
            "Score: 78.34960070984916 %\n",
            "Accuracy: 86.06921029281278 %\n"
          ]
        }
      ]
    },
    {
      "cell_type": "markdown",
      "source": [
        "## Ensemble - Bagging Classifier"
      ],
      "metadata": {
        "id": "GvYHVlwnQamf"
      }
    },
    {
      "cell_type": "code",
      "source": [
        "from sklearn.svm import SVC\n",
        "from sklearn.ensemble import BaggingClassifier\n",
        "clf = BaggingClassifier(base_estimator=SVC(),\n",
        "                        n_estimators=10, random_state=0).fit(X_train, y_train)\n",
        "print(\"Score:\",clf.score(X_test, y_test)*100,\"%\")\n",
        "print(\"Accuracy:\",accuracy_score(y_test, y_pred)*100, \"%\")"
      ],
      "metadata": {
        "colab": {
          "base_uri": "https://localhost:8080/"
        },
        "id": "Ndf69WeUQhmm",
        "outputId": "3bc42723-9e04-4f9e-dc37-28ec5364ade8"
      },
      "execution_count": 17,
      "outputs": [
        {
          "output_type": "stream",
          "name": "stdout",
          "text": [
            "Score: 83.6734693877551 %\n",
            "Accuracy: 86.06921029281278 %\n"
          ]
        }
      ]
    },
    {
      "cell_type": "markdown",
      "source": [
        "# For Test Split 70-30 %"
      ],
      "metadata": {
        "id": "4qFIYN8qMA9D"
      }
    },
    {
      "cell_type": "code",
      "source": [
        "# Split data into train and test data\n",
        "X_train, X_test, y_train, y_test = train_test_split(data, y, test_size=0.3,random_state=11)"
      ],
      "metadata": {
        "id": "mSohxM7rM7G8"
      },
      "execution_count": 18,
      "outputs": []
    },
    {
      "cell_type": "markdown",
      "source": [
        "##SVM Classification\n",
        "\n",
        "\n",
        "\n"
      ],
      "metadata": {
        "id": "VdKavX0bM7G9"
      }
    },
    {
      "cell_type": "markdown",
      "source": [
        "###Kernel = **RBF**"
      ],
      "metadata": {
        "id": "V3CFZvI5M7G9"
      }
    },
    {
      "cell_type": "code",
      "source": [
        "#SVM Classifier, returns the accuracy\n",
        "def svm_pred_rbf(X_train, y_train, X_test, y_test):\n",
        "    np.random.seed(20)\n",
        "    svm_model = SVC(kernel='rbf')\n",
        "    svm_model.fit(X_train, y_train)\n",
        "    svm_pred = svm_model.predict(X_test)\n",
        "    svm_acc=accuracy_score(y_test, svm_pred)\n",
        "    print(classification_report(y_test,svm_pred))\n",
        "    return svm_acc * 100\n",
        "    "
      ],
      "metadata": {
        "id": "O7JUdx2MM7G9"
      },
      "execution_count": 19,
      "outputs": []
    },
    {
      "cell_type": "code",
      "source": [
        "print(\"ACCURACY:\",svm_pred_rbf(X_train, y_train, X_test, y_test), \"%\")\n",
        "\n"
      ],
      "metadata": {
        "colab": {
          "base_uri": "https://localhost:8080/"
        },
        "id": "a1A2FXTPM7G9",
        "outputId": "ccb227fa-9ddf-4a25-daf9-34f533bc3992"
      },
      "execution_count": 20,
      "outputs": [
        {
          "output_type": "stream",
          "name": "stdout",
          "text": [
            "              precision    recall  f1-score   support\n",
            "\n",
            "           0       0.95      0.75      0.84       474\n",
            "           1       0.79      0.96      0.86       342\n",
            "           2       0.70      0.98      0.82       404\n",
            "           3       0.88      0.63      0.73       470\n",
            "\n",
            "    accuracy                           0.81      1690\n",
            "   macro avg       0.83      0.83      0.81      1690\n",
            "weighted avg       0.84      0.81      0.81      1690\n",
            "\n",
            "ACCURACY: 81.18343195266272 %\n"
          ]
        }
      ]
    },
    {
      "cell_type": "markdown",
      "source": [
        "###Kernel = **Linear**"
      ],
      "metadata": {
        "id": "3Qxz02lyM7G9"
      }
    },
    {
      "cell_type": "code",
      "source": [
        "def svm_pred_linear(X_train, y_train, X_test, y_test):\n",
        "    np.random.seed(21)\n",
        "    svm_model = SVC(kernel='linear')\n",
        "    svm_model.fit(X_train, y_train)\n",
        "    svm_pred = svm_model.predict(X_test)\n",
        "    svm_acc=accuracy_score(y_test, svm_pred)\n",
        "    print(classification_report(y_test,svm_pred))\n",
        "    return svm_acc * 100"
      ],
      "metadata": {
        "id": "StSos1gJM7G9"
      },
      "execution_count": 21,
      "outputs": []
    },
    {
      "cell_type": "code",
      "source": [
        "print(\"ACCURACY:\",svm_pred_linear(X_train, y_train, X_test, y_test), \"%\")"
      ],
      "metadata": {
        "colab": {
          "base_uri": "https://localhost:8080/"
        },
        "id": "FVEbAVEPM7G9",
        "outputId": "c136116c-421a-4b80-a196-ce037082e65b"
      },
      "execution_count": 22,
      "outputs": [
        {
          "output_type": "stream",
          "name": "stdout",
          "text": [
            "              precision    recall  f1-score   support\n",
            "\n",
            "           0       0.70      0.79      0.74       474\n",
            "           1       0.74      0.68      0.71       342\n",
            "           2       0.73      0.84      0.78       404\n",
            "           3       0.78      0.62      0.69       470\n",
            "\n",
            "    accuracy                           0.73      1690\n",
            "   macro avg       0.74      0.73      0.73      1690\n",
            "weighted avg       0.74      0.73      0.73      1690\n",
            "\n",
            "ACCURACY: 73.31360946745562 %\n"
          ]
        }
      ]
    },
    {
      "cell_type": "markdown",
      "source": [
        "###Kernel = **Poly**"
      ],
      "metadata": {
        "id": "05pxHNv8M7G9"
      }
    },
    {
      "cell_type": "code",
      "source": [
        "def svm_pred_poly(X_train, y_train, X_test, y_test):\n",
        "    np.random.seed(22)\n",
        "    svm_model = SVC(kernel='poly')\n",
        "    svm_model.fit(X_train, y_train)\n",
        "    svm_pred = svm_model.predict(X_test)\n",
        "    svm_acc=accuracy_score(y_test, svm_pred)\n",
        "    print(classification_report(y_test,svm_pred))\n",
        "    return svm_acc * 100"
      ],
      "metadata": {
        "id": "1sP6e_sAM7G-"
      },
      "execution_count": 23,
      "outputs": []
    },
    {
      "cell_type": "code",
      "source": [
        "print(\"ACCURACY:\", svm_pred_poly(X_train, y_train, X_test, y_test), \"%\")"
      ],
      "metadata": {
        "colab": {
          "base_uri": "https://localhost:8080/"
        },
        "id": "Z7KL7cWlM7G-",
        "outputId": "d338a43b-d21b-47c5-c3d5-4109dc06d156"
      },
      "execution_count": 24,
      "outputs": [
        {
          "output_type": "stream",
          "name": "stdout",
          "text": [
            "              precision    recall  f1-score   support\n",
            "\n",
            "           0       0.82      0.71      0.76       474\n",
            "           1       0.72      0.79      0.75       342\n",
            "           2       0.55      0.98      0.70       404\n",
            "           3       0.79      0.29      0.43       470\n",
            "\n",
            "    accuracy                           0.68      1690\n",
            "   macro avg       0.72      0.70      0.66      1690\n",
            "weighted avg       0.73      0.68      0.65      1690\n",
            "\n",
            "ACCURACY: 67.6923076923077 %\n"
          ]
        }
      ]
    },
    {
      "cell_type": "markdown",
      "source": [
        "##KNN Classification"
      ],
      "metadata": {
        "id": "uSSdzNSdM7G-"
      }
    },
    {
      "cell_type": "code",
      "source": [
        "for i in range(3,9):\n",
        "  np.random.seed(23)\n",
        "  knn = KNeighborsClassifier(n_neighbors=i)\n",
        "  knn.fit(X_train, y_train)\n",
        "  y_pred = knn.predict(X_test)\n",
        "  print(\"Accuracy for {} neighbours:\".format(i),accuracy_score(y_test, y_pred) * 100, \"%\")"
      ],
      "metadata": {
        "colab": {
          "base_uri": "https://localhost:8080/"
        },
        "id": "Fg23pabmM7G-",
        "outputId": "8c2c7780-d9e8-4815-b662-229185d371c4"
      },
      "execution_count": 25,
      "outputs": [
        {
          "output_type": "stream",
          "name": "stdout",
          "text": [
            "Accuracy for 3 neighbours: 88.34319526627219 %\n",
            "Accuracy for 4 neighbours: 88.04733727810651 %\n",
            "Accuracy for 5 neighbours: 89.05325443786982 %\n",
            "Accuracy for 6 neighbours: 88.52071005917159 %\n",
            "Accuracy for 7 neighbours: 88.99408284023669 %\n",
            "Accuracy for 8 neighbours: 88.63905325443787 %\n"
          ]
        }
      ]
    },
    {
      "cell_type": "markdown",
      "source": [
        "##Decision Tree Classification"
      ],
      "metadata": {
        "id": "Rr0xqX3sM7G-"
      }
    },
    {
      "cell_type": "code",
      "source": [
        "np.random.seed(24)\n",
        "tree = DecisionTreeClassifier()\n",
        "tree.fit(X_train, y_train)\n",
        "y_pred = tree.predict(X_test)\n",
        "print(\"Accuracy:\",accuracy_score(y_test, y_pred)*100, \"%\")"
      ],
      "metadata": {
        "colab": {
          "base_uri": "https://localhost:8080/"
        },
        "id": "WKKs9HmTM7G-",
        "outputId": "668699bb-5327-442e-fff4-03179e4642e9"
      },
      "execution_count": 26,
      "outputs": [
        {
          "output_type": "stream",
          "name": "stdout",
          "text": [
            "Accuracy: 85.73964497041419 %\n"
          ]
        }
      ]
    },
    {
      "cell_type": "markdown",
      "source": [
        "##Ensemble - AdaBoost"
      ],
      "metadata": {
        "id": "OnmZdUHO5akP"
      }
    },
    {
      "cell_type": "code",
      "source": [
        "from sklearn.ensemble import AdaBoostClassifier\n",
        "clf = AdaBoostClassifier(n_estimators=100, random_state=0).fit(X_train, y_train)\n",
        "print(\"Score:\",clf.score(X_test, y_test)*100,\"%\")\n",
        "print(\"Accuracy:\",accuracy_score(y_test, y_pred)*100, \"%\")"
      ],
      "metadata": {
        "colab": {
          "base_uri": "https://localhost:8080/"
        },
        "id": "5sR18Z-f5daK",
        "outputId": "ae3a10da-f667-4ad0-e504-7b1560db0a2c"
      },
      "execution_count": 27,
      "outputs": [
        {
          "output_type": "stream",
          "name": "stdout",
          "text": [
            "Score: 53.66863905325444 %\n",
            "Accuracy: 85.73964497041419 %\n"
          ]
        }
      ]
    },
    {
      "cell_type": "markdown",
      "source": [
        "# Ensemble Learning for 70-30 split"
      ],
      "metadata": {
        "id": "zDBxG7wA4uB6"
      }
    },
    {
      "cell_type": "markdown",
      "source": [
        "## Ensemble - Gradient Boosting Classifier"
      ],
      "metadata": {
        "id": "pD8I_pmh9Iet"
      }
    },
    {
      "cell_type": "code",
      "source": [
        "from sklearn.ensemble import GradientBoostingClassifier\n",
        "clf = GradientBoostingClassifier(n_estimators=100, learning_rate=1.0, max_depth=1, random_state=0).fit(X_train, y_train)\n",
        "print(\"Score:\",clf.score(X_test, y_test)*100,\"%\")\n",
        "print(\"Accuracy:\",accuracy_score(y_test, y_pred)*100, \"%\")"
      ],
      "metadata": {
        "colab": {
          "base_uri": "https://localhost:8080/"
        },
        "id": "BaO2KLrc9Hw2",
        "outputId": "9efdbad1-949b-4db0-ddf1-1588aeb5bd43"
      },
      "execution_count": 28,
      "outputs": [
        {
          "output_type": "stream",
          "name": "stdout",
          "text": [
            "Score: 85.62130177514793 %\n",
            "Accuracy: 85.73964497041419 %\n"
          ]
        }
      ]
    },
    {
      "cell_type": "markdown",
      "source": [
        "## Ensemble  - Histogram based gradient boosting classifier"
      ],
      "metadata": {
        "id": "gl1kW4JI-Ca7"
      }
    },
    {
      "cell_type": "code",
      "source": [
        "from sklearn.ensemble import HistGradientBoostingClassifier\n",
        "clf = HistGradientBoostingClassifier(max_iter=100).fit(X_train, y_train)\n",
        "print(\"Score:\",clf.score(X_test, y_test)*100,\"%\")\n",
        "print(\"Accuracy:\",accuracy_score(y_test, y_pred)*100, \"%\")"
      ],
      "metadata": {
        "colab": {
          "base_uri": "https://localhost:8080/"
        },
        "id": "AL-yy0KMCMJS",
        "outputId": "29441b64-675b-4dd4-8c1f-932c27128e04"
      },
      "execution_count": 29,
      "outputs": [
        {
          "output_type": "stream",
          "name": "stdout",
          "text": [
            "Score: 87.6923076923077 %\n",
            "Accuracy: 85.73964497041419 %\n"
          ]
        }
      ]
    },
    {
      "cell_type": "markdown",
      "source": [
        "##Ensemble - Random Forest"
      ],
      "metadata": {
        "id": "ufXHBMZc4IDR"
      }
    },
    {
      "cell_type": "code",
      "source": [
        "from sklearn.ensemble import RandomForestClassifier\n",
        "clf = RandomForestClassifier(max_depth=2, random_state=0).fit(X_train, y_train)\n",
        "print(\"Score:\",clf.score(X_test, y_test)*100,\"%\")\n",
        "print(\"Accuracy:\",accuracy_score(y_test, y_pred)*100, \"%\")"
      ],
      "metadata": {
        "colab": {
          "base_uri": "https://localhost:8080/"
        },
        "id": "sA0hX7M84KnQ",
        "outputId": "6d83c069-108f-47db-9d6c-124a969e05aa"
      },
      "execution_count": 30,
      "outputs": [
        {
          "output_type": "stream",
          "name": "stdout",
          "text": [
            "Score: 77.27810650887574 %\n",
            "Accuracy: 85.73964497041419 %\n"
          ]
        }
      ]
    },
    {
      "cell_type": "markdown",
      "source": [
        "##Ensemble - Bagging Classifier"
      ],
      "metadata": {
        "id": "SYAJpmmS2rrB"
      }
    },
    {
      "cell_type": "code",
      "source": [
        "from sklearn.svm import SVC\n",
        "from sklearn.ensemble import BaggingClassifier\n",
        "clf = BaggingClassifier(base_estimator=SVC(),\n",
        "                        n_estimators=10, random_state=0).fit(X_train, y_train)\n",
        "print(\"Score:\",clf.score(X_test, y_test)*100,\"%\")\n",
        "print(\"Accuracy:\",accuracy_score(y_test, y_pred)*100, \"%\")"
      ],
      "metadata": {
        "colab": {
          "base_uri": "https://localhost:8080/"
        },
        "id": "GpqcL9Jl2rLC",
        "outputId": "53c6aeb3-370d-4ea0-b2a2-7ecee485f244"
      },
      "execution_count": 31,
      "outputs": [
        {
          "output_type": "stream",
          "name": "stdout",
          "text": [
            "Score: 81.77514792899409 %\n",
            "Accuracy: 85.73964497041419 %\n"
          ]
        }
      ]
    },
    {
      "cell_type": "markdown",
      "source": [
        "##Ensemble - AdaBoost"
      ],
      "metadata": {
        "id": "ZRW5cBxl4o5r"
      }
    },
    {
      "cell_type": "code",
      "source": [
        "from sklearn.ensemble import AdaBoostClassifier\n",
        "clf = AdaBoostClassifier(n_estimators=100, random_state=0).fit(X_train, y_train)\n",
        "print(\"Score:\",clf.score(X_test, y_test)*100,\"%\")\n",
        "print(\"Accuracy:\",accuracy_score(y_test, y_pred)*100, \"%\")"
      ],
      "metadata": {
        "colab": {
          "base_uri": "https://localhost:8080/"
        },
        "id": "ihk7ZfAD5Yb0",
        "outputId": "0dbcf844-cae5-48d3-e9b4-4009465a13a0"
      },
      "execution_count": 32,
      "outputs": [
        {
          "output_type": "stream",
          "name": "stdout",
          "text": [
            "Score: 53.66863905325444 %\n",
            "Accuracy: 85.73964497041419 %\n"
          ]
        }
      ]
    },
    {
      "cell_type": "markdown",
      "source": [
        "# For Test Split 60-40 %"
      ],
      "metadata": {
        "id": "4tI3M1ALNjJg"
      }
    },
    {
      "cell_type": "code",
      "source": [
        "# Split data into train and test data\n",
        "X_train, X_test, y_train, y_test = train_test_split(data, y, test_size=0.4, random_state=12)"
      ],
      "metadata": {
        "id": "43UzMMAZNjJh"
      },
      "execution_count": 33,
      "outputs": []
    },
    {
      "cell_type": "markdown",
      "source": [
        "##SVM Classification\n",
        "\n",
        "\n",
        "\n"
      ],
      "metadata": {
        "id": "flJamaKaNjJi"
      }
    },
    {
      "cell_type": "markdown",
      "source": [
        "###Kernel = **RBF**"
      ],
      "metadata": {
        "id": "tqdXu_c4NjJj"
      }
    },
    {
      "cell_type": "code",
      "source": [
        "#SVM Classifier, returns the accuracy\n",
        "def svm_pred_rbf(X_train, y_train, X_test, y_test):\n",
        "    np.random.seed(30)\n",
        "    svm_model = SVC(kernel='rbf')\n",
        "    svm_model.fit(X_train, y_train)\n",
        "    svm_pred = svm_model.predict(X_test)\n",
        "    svm_acc=accuracy_score(y_test, svm_pred)\n",
        "    print(classification_report(y_test,svm_pred))\n",
        "    return svm_acc * 100"
      ],
      "metadata": {
        "id": "Oe_HvbSINjJj"
      },
      "execution_count": 34,
      "outputs": []
    },
    {
      "cell_type": "code",
      "source": [
        "print(\"ACCURACY:\",svm_pred_rbf(X_train, y_train, X_test, y_test), \"%\")\n"
      ],
      "metadata": {
        "colab": {
          "base_uri": "https://localhost:8080/"
        },
        "id": "xNW5JVZoNjJk",
        "outputId": "54f31cda-6bed-4cf5-88e1-1f915e20a6d2"
      },
      "execution_count": 35,
      "outputs": [
        {
          "output_type": "stream",
          "name": "stdout",
          "text": [
            "              precision    recall  f1-score   support\n",
            "\n",
            "           0       0.93      0.71      0.81       585\n",
            "           1       0.76      0.95      0.84       455\n",
            "           2       0.72      0.98      0.83       592\n",
            "           3       0.91      0.63      0.75       621\n",
            "\n",
            "    accuracy                           0.81      2253\n",
            "   macro avg       0.83      0.82      0.81      2253\n",
            "weighted avg       0.84      0.81      0.81      2253\n",
            "\n",
            "ACCURACY: 81.04749223257879 %\n"
          ]
        }
      ]
    },
    {
      "cell_type": "markdown",
      "source": [
        "###Kernel = **Linear**"
      ],
      "metadata": {
        "id": "FPhHKpL0NjJk"
      }
    },
    {
      "cell_type": "code",
      "source": [
        "def svm_pred_linear(X_train, y_train, X_test, y_test):\n",
        "    np.random.seed(31)\n",
        "    svm_model = SVC(kernel='linear')\n",
        "    svm_model.fit(X_train, y_train)\n",
        "    svm_pred = svm_model.predict(X_test)\n",
        "    svm_acc=accuracy_score(y_test, svm_pred)\n",
        "    print(classification_report(y_test,svm_pred))\n",
        "    return svm_acc * 100"
      ],
      "metadata": {
        "id": "yrhgSKXtNjJl"
      },
      "execution_count": 36,
      "outputs": []
    },
    {
      "cell_type": "code",
      "source": [
        "print(\"ACCURACY:\",svm_pred_linear(X_train, y_train, X_test, y_test), \"%\")"
      ],
      "metadata": {
        "colab": {
          "base_uri": "https://localhost:8080/"
        },
        "id": "u2nrHuPnNjJl",
        "outputId": "cbe3a951-8abd-4538-b81c-0e88406dd2bb"
      },
      "execution_count": 37,
      "outputs": [
        {
          "output_type": "stream",
          "name": "stdout",
          "text": [
            "              precision    recall  f1-score   support\n",
            "\n",
            "           0       0.68      0.71      0.69       585\n",
            "           1       0.68      0.71      0.69       455\n",
            "           2       0.73      0.81      0.77       592\n",
            "           3       0.75      0.62      0.68       621\n",
            "\n",
            "    accuracy                           0.71      2253\n",
            "   macro avg       0.71      0.71      0.71      2253\n",
            "weighted avg       0.71      0.71      0.71      2253\n",
            "\n",
            "ACCURACY: 70.97203728362183 %\n"
          ]
        }
      ]
    },
    {
      "cell_type": "markdown",
      "source": [
        "###Kernel = **Poly**"
      ],
      "metadata": {
        "id": "uZCvyalSNjJl"
      }
    },
    {
      "cell_type": "code",
      "source": [
        "def svm_pred_poly(X_train, y_train, X_test, y_test):\n",
        "    np.random.seed(32)\n",
        "    svm_model = SVC(kernel='poly')\n",
        "    svm_model.fit(X_train, y_train)\n",
        "    svm_pred = svm_model.predict(X_test)\n",
        "    svm_acc=accuracy_score(y_test, svm_pred)\n",
        "    print(classification_report(y_test,svm_pred))\n",
        "    return svm_acc * 100"
      ],
      "metadata": {
        "id": "iVHKF_5QNjJl"
      },
      "execution_count": 38,
      "outputs": []
    },
    {
      "cell_type": "code",
      "source": [
        "print(\"ACCURACY:\", svm_pred_poly(X_train, y_train, X_test, y_test), \"%\")"
      ],
      "metadata": {
        "colab": {
          "base_uri": "https://localhost:8080/"
        },
        "id": "8XJBub_CNjJl",
        "outputId": "a92cef3c-a56b-4bcd-adba-412184188b01"
      },
      "execution_count": 39,
      "outputs": [
        {
          "output_type": "stream",
          "name": "stdout",
          "text": [
            "              precision    recall  f1-score   support\n",
            "\n",
            "           0       0.77      0.66      0.71       585\n",
            "           1       0.68      0.76      0.72       455\n",
            "           2       0.59      0.97      0.73       592\n",
            "           3       0.84      0.34      0.49       621\n",
            "\n",
            "    accuracy                           0.68      2253\n",
            "   macro avg       0.72      0.69      0.66      2253\n",
            "weighted avg       0.72      0.68      0.66      2253\n",
            "\n",
            "ACCURACY: 67.64314247669773 %\n"
          ]
        }
      ]
    },
    {
      "cell_type": "markdown",
      "source": [
        "##KNN Classification"
      ],
      "metadata": {
        "id": "E38toRq6NjJl"
      }
    },
    {
      "cell_type": "code",
      "source": [
        "for i in range(3,9):\n",
        "  np.random.seed(33)\n",
        "  knn = KNeighborsClassifier(n_neighbors=i)\n",
        "  knn.fit(X_train, y_train)\n",
        "  y_pred = knn.predict(X_test)\n",
        "  print(\"Accuracy for {} neighbours:\".format(i),accuracy_score(y_test, y_pred) * 100, \"%\")"
      ],
      "metadata": {
        "colab": {
          "base_uri": "https://localhost:8080/"
        },
        "id": "HYfmVAEkNjJl",
        "outputId": "d7907f8a-a408-4c21-8442-e723fc1428a5"
      },
      "execution_count": 40,
      "outputs": [
        {
          "output_type": "stream",
          "name": "stdout",
          "text": [
            "Accuracy for 3 neighbours: 86.64003550821128 %\n",
            "Accuracy for 4 neighbours: 87.12827341322681 %\n",
            "Accuracy for 5 neighbours: 87.0838881491345 %\n",
            "Accuracy for 6 neighbours: 86.86196182867289 %\n",
            "Accuracy for 7 neighbours: 86.9063470927652 %\n",
            "Accuracy for 8 neighbours: 86.99511762094984 %\n"
          ]
        }
      ]
    },
    {
      "cell_type": "markdown",
      "source": [
        "##Decision Tree Classification"
      ],
      "metadata": {
        "id": "PLhCHzvENjJm"
      }
    },
    {
      "cell_type": "code",
      "source": [
        "np.random.seed(34)\n",
        "tree = DecisionTreeClassifier()\n",
        "tree.fit(X_train, y_train)\n",
        "y_pred = tree.predict(X_test)\n",
        "print(\"Accuracy:\",accuracy_score(y_test, y_pred)*100, \"%\")"
      ],
      "metadata": {
        "colab": {
          "base_uri": "https://localhost:8080/"
        },
        "id": "IFS8q6vzNjJm",
        "outputId": "c6c6e3c0-86fe-410b-9494-ae22d6b98adc"
      },
      "execution_count": 41,
      "outputs": [
        {
          "output_type": "stream",
          "name": "stdout",
          "text": [
            "Accuracy: 84.77585441633377 %\n"
          ]
        }
      ]
    },
    {
      "cell_type": "markdown",
      "source": [
        "# Ensemble Learning for 60-40 split"
      ],
      "metadata": {
        "id": "TTJRpyEC4yiu"
      }
    },
    {
      "cell_type": "markdown",
      "source": [
        "## Ensemble - Gradient Boosting Classifier\n"
      ],
      "metadata": {
        "id": "_N87ta8w9QFV"
      }
    },
    {
      "cell_type": "code",
      "source": [
        "from sklearn.ensemble import GradientBoostingClassifier\n",
        "clf = GradientBoostingClassifier(n_estimators=100, learning_rate=1.0, max_depth=1, random_state=0).fit(X_train, y_train)\n",
        "print(\"Score:\",clf.score(X_test, y_test)*100,\"%\")\n",
        "print(\"Accuracy:\",accuracy_score(y_test, y_pred)*100, \"%\")"
      ],
      "metadata": {
        "colab": {
          "base_uri": "https://localhost:8080/"
        },
        "id": "6Z6A89Wm9UUV",
        "outputId": "6b1477ab-b9ee-447f-d9ed-a92da2ae0ef3"
      },
      "execution_count": 42,
      "outputs": [
        {
          "output_type": "stream",
          "name": "stdout",
          "text": [
            "Score: 83.3555259653795 %\n",
            "Accuracy: 84.77585441633377 %\n"
          ]
        }
      ]
    },
    {
      "cell_type": "markdown",
      "source": [
        "## Ensemble - Histogram based gradient boosting classifier"
      ],
      "metadata": {
        "id": "9D0RQV7KDHJF"
      }
    },
    {
      "cell_type": "code",
      "source": [
        "from sklearn.ensemble import HistGradientBoostingClassifier\n",
        "clf = HistGradientBoostingClassifier(max_iter=100).fit(X_train, y_train)\n",
        "print(\"Score:\",clf.score(X_test, y_test)*100,\"%\")\n",
        "print(\"Accuracy:\",accuracy_score(y_test, y_pred)*100, \"%\")"
      ],
      "metadata": {
        "colab": {
          "base_uri": "https://localhost:8080/"
        },
        "id": "GqeMLJD8DG9A",
        "outputId": "fc8131b5-be3e-4e3f-9d8b-319235d4eae4"
      },
      "execution_count": 43,
      "outputs": [
        {
          "output_type": "stream",
          "name": "stdout",
          "text": [
            "Score: 86.28495339547271 %\n",
            "Accuracy: 84.77585441633377 %\n"
          ]
        }
      ]
    },
    {
      "cell_type": "markdown",
      "source": [
        "## Ensemble - Bagging Classfier"
      ],
      "metadata": {
        "id": "ebigOb7i2y3y"
      }
    },
    {
      "cell_type": "code",
      "source": [
        "from sklearn.svm import SVC\n",
        "from sklearn.ensemble import BaggingClassifier\n",
        "clf = BaggingClassifier(base_estimator=SVC(),\n",
        "                        n_estimators=10, random_state=0).fit(X_train, y_train)\n",
        "print(\"Score:\",clf.score(X_test, y_test)*100,\"%\")\n",
        "print(\"Accuracy:\",accuracy_score(y_test, y_pred)*100, \"%\")"
      ],
      "metadata": {
        "colab": {
          "base_uri": "https://localhost:8080/"
        },
        "id": "wNr9QgqX21zl",
        "outputId": "3976ceed-3309-429f-85f0-56f50aa51c7f"
      },
      "execution_count": 44,
      "outputs": [
        {
          "output_type": "stream",
          "name": "stdout",
          "text": [
            "Score: 81.0918774966711 %\n",
            "Accuracy: 84.77585441633377 %\n"
          ]
        }
      ]
    },
    {
      "cell_type": "markdown",
      "source": [
        "## Ensemble - Random Forests\n"
      ],
      "metadata": {
        "id": "VZwjIzmL4McH"
      }
    },
    {
      "cell_type": "code",
      "source": [
        "from sklearn.ensemble import RandomForestClassifier\n",
        "clf = RandomForestClassifier(max_depth=2, random_state=0).fit(X_train, y_train)\n",
        "print(\"Score:\",clf.score(X_test, y_test)*100,\"%\")\n",
        "print(\"Accuracy:\",accuracy_score(y_test, y_pred)*100, \"%\")"
      ],
      "metadata": {
        "colab": {
          "base_uri": "https://localhost:8080/"
        },
        "id": "DiMkNEbE4Q-m",
        "outputId": "ec1c0dda-9f71-43c4-8721-bd1a7e52d764"
      },
      "execution_count": 45,
      "outputs": [
        {
          "output_type": "stream",
          "name": "stdout",
          "text": [
            "Score: 75.14425210830005 %\n",
            "Accuracy: 84.77585441633377 %\n"
          ]
        }
      ]
    },
    {
      "cell_type": "markdown",
      "source": [
        "## Ensemble - AdaBoost\n"
      ],
      "metadata": {
        "id": "jRtx840I5JMu"
      }
    },
    {
      "cell_type": "code",
      "source": [
        "from sklearn.ensemble import AdaBoostClassifier\n",
        "clf = AdaBoostClassifier(n_estimators=100, random_state=0).fit(X_train, y_train)\n",
        "print(\"Score:\",clf.score(X_test, y_test)*100,\"%\")\n",
        "print(\"Accuracy:\",accuracy_score(y_test, y_pred)*100, \"%\")"
      ],
      "metadata": {
        "colab": {
          "base_uri": "https://localhost:8080/"
        },
        "id": "VFsnh_ax5MKJ",
        "outputId": "f0290c10-9900-40d8-ff65-a309b93019a7"
      },
      "execution_count": 46,
      "outputs": [
        {
          "output_type": "stream",
          "name": "stdout",
          "text": [
            "Score: 64.0479360852197 %\n",
            "Accuracy: 84.77585441633377 %\n"
          ]
        }
      ]
    }
  ]
}